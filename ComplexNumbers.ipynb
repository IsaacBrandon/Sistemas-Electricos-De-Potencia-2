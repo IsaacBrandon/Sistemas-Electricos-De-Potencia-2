{
 "cells": [
  {
   "cell_type": "markdown",
   "metadata": {},
   "source": [
    "# Tarea 4: Funciones para números complejos\n",
    "## Brandon Urian Cancino Meyer"
   ]
  },
  {
   "cell_type": "markdown",
   "metadata": {},
   "source": [
    "### Rectangular a polar\n",
    "\n",
    "rec2pol(Z): Transforma un número complejo en forma polar a su forma rectangular con su ángulo en grados."
   ]
  },
  {
   "cell_type": "code",
   "execution_count": 7,
   "metadata": {},
   "outputs": [
    {
     "data": {
      "text/plain": [
       "rec2pol (generic function with 1 method)"
      ]
     },
     "execution_count": 7,
     "metadata": {},
     "output_type": "execute_result"
    }
   ],
   "source": [
    "#= Se escribe una función que reciba de entrada un numero complejo y se establece que la salida sea un vector cuyos \n",
    "sean la magnitud del numero complejo y su angulo =#\n",
    "function rec2pol(z)\n",
    "    [abs(z) angle(z)*(180/pi)]\n",
    "end"
   ]
  },
  {
   "cell_type": "code",
   "execution_count": 8,
   "metadata": {},
   "outputs": [
    {
     "data": {
      "text/plain": [
       "2.23606797749979"
      ]
     },
     "execution_count": 8,
     "metadata": {},
     "output_type": "execute_result"
    }
   ],
   "source": [
    "# Creamos un numero complejo arbitrario y obtenemos su magnitud con las funcion abs de Julia\n",
    "z=1+2im\n",
    "abs(z)"
   ]
  },
  {
   "cell_type": "code",
   "execution_count": 9,
   "metadata": {},
   "outputs": [
    {
     "data": {
      "text/plain": [
       "63.43494882292201"
      ]
     },
     "execution_count": 9,
     "metadata": {},
     "output_type": "execute_result"
    }
   ],
   "source": [
    "# Obtenemos el angulo del mismo numero complejo con la funcion angle de Julia\n",
    "angle(z)*180/pi"
   ]
  },
  {
   "cell_type": "code",
   "execution_count": 10,
   "metadata": {},
   "outputs": [
    {
     "data": {
      "text/plain": [
       "1×2 Array{Float64,2}:\n",
       " 2.23607  63.4349"
      ]
     },
     "execution_count": 10,
     "metadata": {},
     "output_type": "execute_result"
    }
   ],
   "source": [
    "#Utilizamos la funcion que creamos; al comparar los resultados con los anteriores se verá que son iguales\n",
    "A=rec2pol(z)"
   ]
  },
  {
   "cell_type": "code",
   "execution_count": 16,
   "metadata": {},
   "outputs": [
    {
     "data": {
      "text/plain": [
       "63.43494882292201"
      ]
     },
     "execution_count": 16,
     "metadata": {},
     "output_type": "execute_result"
    }
   ],
   "source": [
    "#ANGULO DEL NUMERO COMPLEJO llamado como elemento del vector A\n",
    "theta=A[2]"
   ]
  },
  {
   "cell_type": "code",
   "execution_count": 17,
   "metadata": {},
   "outputs": [
    {
     "data": {
      "text/plain": [
       "2.23606797749979"
      ]
     },
     "execution_count": 17,
     "metadata": {},
     "output_type": "execute_result"
    }
   ],
   "source": [
    "#MAGNITUD DEL NUMERO COMPLEJO llamado como elemento del vector A\n",
    "mod=A[1]"
   ]
  },
  {
   "cell_type": "markdown",
   "metadata": {},
   "source": [
    "### Polar a rectangular\n",
    "\n",
    "pol2rec([a1 a2]): Transforma un vector con los valores de un número complejo como [magnitud angulo] a su forma polar.\n",
    "\n",
    "   ###### Struct indica generar un tipo de datos"
   ]
  },
  {
   "cell_type": "code",
   "execution_count": 18,
   "metadata": {},
   "outputs": [],
   "source": [
    "#Creamos una estructura para un nuevo tipo de datos como numero complejo de manera polar\n",
    "struct polar{T}\n",
    "    m::T #T es para todo tipo de dato, m es la magnitud del num. complejo\n",
    "    θ::T #\\theta paraUTF8 θ es el angulo del numero complejo\n",
    "end\n",
    "    \n",
    "#= Puede ser utilizado para, por ejemplo, definir un generador y tener \n",
    "un objeto con los parametros tales como impedancia, voltaje, etc. =#"
   ]
  },
  {
   "cell_type": "code",
   "execution_count": 19,
   "metadata": {},
   "outputs": [
    {
     "data": {
      "text/plain": [
       "polar{Int64}(1, 45)"
      ]
     },
     "execution_count": 19,
     "metadata": {},
     "output_type": "execute_result"
    }
   ],
   "source": [
    "#Elegimos un numero complejo de manera arbitraria cuya estructura sea la que acabamos de crear\n",
    "p=polar(1,45)"
   ]
  },
  {
   "cell_type": "code",
   "execution_count": 20,
   "metadata": {},
   "outputs": [
    {
     "data": {
      "text/plain": [
       "1"
      ]
     },
     "execution_count": 20,
     "metadata": {},
     "output_type": "execute_result"
    }
   ],
   "source": [
    "#Llamamos el primer elemento de la nueva estructura de la siguiente manera\n",
    "p.m"
   ]
  },
  {
   "cell_type": "code",
   "execution_count": 21,
   "metadata": {},
   "outputs": [
    {
     "data": {
      "text/plain": [
       "45"
      ]
     },
     "execution_count": 21,
     "metadata": {},
     "output_type": "execute_result"
    }
   ],
   "source": [
    "#Cada elemento de la estructura puede ser llamado con (nombre de la variable).(nombre de variable interna)\n",
    "p.θ"
   ]
  },
  {
   "cell_type": "code",
   "execution_count": 22,
   "metadata": {},
   "outputs": [
    {
     "data": {
      "text/plain": [
       "pol2rec (generic function with 1 method)"
      ]
     },
     "execution_count": 22,
     "metadata": {},
     "output_type": "execute_result"
    }
   ],
   "source": [
    "#Creamos una funcion que nos cambie los datos de la nueva estructura a un numero complejo\n",
    "function pol2rec(p::polar)\n",
    "    p.m*(cos(p.θ*(pi/180))+sin(p.θ*(pi/180))im)\n",
    "end"
   ]
  },
  {
   "cell_type": "code",
   "execution_count": 23,
   "metadata": {},
   "outputs": [
    {
     "data": {
      "text/plain": [
       "polar{Float64}(2.23, 63.0)"
      ]
     },
     "execution_count": 23,
     "metadata": {},
     "output_type": "execute_result"
    }
   ],
   "source": [
    "#Tomamos un numero complejo arbitrario de manera polar y lo metemos en la estructura\n",
    "a=polar(2.23,63.0)"
   ]
  },
  {
   "cell_type": "code",
   "execution_count": 24,
   "metadata": {},
   "outputs": [
    {
     "data": {
      "text/plain": [
       "1.0123988144191896 + 1.9869445489400601im"
      ]
     },
     "execution_count": 24,
     "metadata": {},
     "output_type": "execute_result"
    }
   ],
   "source": [
    "#Aplicamos la funcion creada al numero en estructura polar\n",
    "b=pol2rec(a)"
   ]
  },
  {
   "cell_type": "markdown",
   "metadata": {},
   "source": [
    "##### Conclusión\n",
    "\n",
    "Podemos ver que podemos facilitar el uso de los numeros complejos en nuestro trabajo en Julia mediante la creación de estructuras y funciones para trabajar objetos cuyo grado de complejidad pueda aumentar a arreglos muy grandes de datos."
   ]
  }
 ],
 "metadata": {
  "kernelspec": {
   "display_name": "Julia 1.1.0",
   "language": "julia",
   "name": "julia-1.1"
  },
  "language_info": {
   "file_extension": ".jl",
   "mimetype": "application/julia",
   "name": "julia",
   "version": "1.1.0"
  }
 },
 "nbformat": 4,
 "nbformat_minor": 2
}
