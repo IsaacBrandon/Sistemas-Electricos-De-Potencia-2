{
 "cells": [
  {
   "cell_type": "markdown",
   "metadata": {},
   "source": [
    "# Tarea 3: Componentes simétricas\n",
    "## Brandon Urian Cancino Meyer"
   ]
  },
  {
   "cell_type": "markdown",
   "metadata": {},
   "source": [
    "### Marco Teórico\n",
    "\n",
    "Se dice que un circuito trifásico es asimétrico o desequilibrado, cuando las f.e.m.s.de los generadores de alimentación no son perfectaso cuando los receptores no constituyen  una  carga  balanceada.  Se  trate  de  una  u  otra  causa,  resulta  que  las tensiones e intensidades dejan de ser equilibradas. Esta situación se da, con frecuencia, en  los  sistemas  de  transporte  y  distribución  de  energía  eléctrica  cuando  se  producen “cortocircuitos o fallas”.\n",
    "\n",
    "En  el  año  1918, C.L.  Fortescue  presentó  en  una  reunión  del  \"American  Institute  of Electrical Engineers\", un trabajo que constituye una de las herramientas más poderosaspara el estudio de los circuitos polifásicos desequilibrados.\n",
    "\n",
    "Para   el   análisis   de  estos   circuitos,   Fortescue,   ideó   el   llamado \"método   de  las componentes simétricas\", que consiste en descomponer un sistema asimétrico en los llamados \"sistemas  simétricos\",también  denominados \"componentes  simétricas\" del sistema original.\n",
    "\n",
    "###### La  idea  del  método  consiste  en  suponer  que  todo  circuito  trifásico  asimétrico puede  ser  expresado  por  medio  de  la  suma  o  composición  de  tres  sistemas simétricos, los que a su vez son fácilmente solubles.\n",
    "\n",
    "###### Este  método  de  análisis  hace  posible  la  predicción,  fácilmente  y  exactamente,  del comportamiento   de   los   sistemas   de   potencia   durante   las   condiciones   de cortocircuito asimétricos o cargas desbalanceadas.\n",
    "\n",
    "Por  conveniencia  en  la  notación  y  manipulación  se  introduce  un  vector  operador, se lo denomina \"a\" y se lo define como: \n",
    "### a =–1/2 +(1.5im)^(1/2) \n",
    "\n",
    "Esto significa que el vector \"a\" tiene magnitud unidad y esta orientado a 120º en dirección positiva desde el eje de referencia. Un vector al que se lo multiplica por \"a\" no cambia de magnitud pero si de ángulo, es rotado 120º hacia adelante.  Por ejemplo, V ́= a Ves un vector que tiene la misma magnitud pero rotado 120º delante del vector V. El  cuadrado  del  vector  \"a\" es  otro  vector  unitario  orientado  120º  en dirección negativa desde el eje de referencia o 240º de V en dirección positiva. Como  se  ve  en  la  figura  el  resultado  de  la  operación  de  a2sobre  el vector V, es V\"que tiene la misma magnitud que V pero ubicado 120º en la dirección horaria de V.\n",
    "\n",
    "Los tres vectores 1, a^2y a (tomados en este orden) forman un conjunto balanceado y  simétrico  que  rota  con  secuencia  de  fase  positiva,dado  que  los  vectores  son  de igual magnitud, desplazados uno del otro en igual ángulo ycruzan la línea de referencia en el orden 1, a^2 y a (siguiendo la usual convención anti horaria)\n",
    "\n",
    "Podemos enunciar el Teorema de Fortescue de la siguiente manera:\n",
    "\n",
    "### \"Cualquier sistema trifásico de fasores asimétrico puede ser descompuesto en tres sistemas de fasores a saber”:\n",
    "\n",
    "#### a)Un  sistema  simétrico  de  fasores  trifásicos  que  poseen  la  secuencia  de  fases del  sistema  primitivo,  formando  la  terna  de  secuencia  positiva,  secuencia  1  o secuencia directa;\n",
    "\n",
    "#### b)Un  sistema  simétrico  de  fasores  trifásicos  que  poseen  secuencia  de  fases antagónica a la del sistema primitivo, formando la terna de secuencia negativa, secuencia 2 o secuencia inversa;\n",
    "\n",
    "#### c)Un  sistema  simétrico  de  tres  fasores  monofásicos  de  igual  módulo y  girando sincrónicamente  en  fase  llamado  terna  de  secuencia  nula,  secuencia  cero  o secuencia homopolar\"\n",
    "\n",
    "Las componentes  simétricas Vs pueden  obtenerse a partir de los valores normales Vn utilizando la inversa de la matriz de transferencia directa F siendo F y F^-1 igual a:\n",
    "\n",
    "F = [1.0+0.0im   1.0+0.0im     1.0+0.0im  \n",
    "     1.0+0.0im  -0.5-0.866im  -0.5+0.866im\n",
    "     1.0+0.0im  -0.5+0.866im  -0.5-0.866im]\n",
    " \n",
    " F^-1 = [0.333333-0.0im   0.333333+0.0im        0.333333+0.0im     \n",
    "         0.333333+0.0im  -0.166667+0.288684im  -0.166667-0.288684im\n",
    "         0.333333+0.0im  -0.166667-0.288684im  -0.166667+0.288684im]"
   ]
  },
  {
   "cell_type": "code",
   "execution_count": 1,
   "metadata": {},
   "outputs": [
    {
     "data": {
      "text/plain": [
       "3×3 Array{Complex{Float64},2}:\n",
       " 1.0+0.0im   1.0+0.0im     1.0+0.0im  \n",
       " 1.0+0.0im  -0.5-0.866im  -0.5+0.866im\n",
       " 1.0+0.0im  -0.5+0.866im  -0.5-0.866im"
      ]
     },
     "execution_count": 1,
     "metadata": {},
     "output_type": "execute_result"
    }
   ],
   "source": [
    "A=[1+0im 1+0im 1+0im\n",
    "    1+0im -0.5-0.866im -0.5+0.866im\n",
    "    1+0im -0.5+0.866im -0.5-0.866im]"
   ]
  },
  {
   "cell_type": "code",
   "execution_count": 8,
   "metadata": {},
   "outputs": [
    {
     "data": {
      "text/plain": [
       "3×3 Array{Complex{Float64},2}:\n",
       " 0.333333-0.0im   0.333333+0.0im        0.333333+0.0im     \n",
       " 0.333333+0.0im  -0.166667+0.288684im  -0.166667-0.288684im\n",
       " 0.333333+0.0im  -0.166667-0.288684im  -0.166667+0.288684im"
      ]
     },
     "execution_count": 8,
     "metadata": {},
     "output_type": "execute_result"
    }
   ],
   "source": [
    "Am=inv(A)"
   ]
  },
  {
   "cell_type": "markdown",
   "metadata": {},
   "source": [
    "## Example 10.1\n",
    "Obtain the symmetrical components of a set of unbalanced currents Ia=1.6<25° ; Ib=1.0<180° and Ic=0.9<132°"
   ]
  },
  {
   "cell_type": "code",
   "execution_count": 3,
   "metadata": {},
   "outputs": [
    {
     "data": {
      "text/plain": [
       "-0.6022211489490756 + 0.6688270985527242im"
      ]
     },
     "execution_count": 3,
     "metadata": {},
     "output_type": "execute_result"
    }
   ],
   "source": [
    "#angulos en radianes\n",
    "anga=25\n",
    "angar=25*3.1416/180\n",
    "angb=180\n",
    "angbr=3.1416\n",
    "angc=132\n",
    "angcr=132*3.1416/180\n",
    "ia=1.6*cos(angar)+1.6im*sin(angar)\n",
    "ib=1*cos(angbr)+1im*sin(angbr)\n",
    "ic=0.9*cos(angcr)+0.9im*sin(angcr)"
   ]
  },
  {
   "cell_type": "code",
   "execution_count": 4,
   "metadata": {},
   "outputs": [
    {
     "data": {
      "text/plain": [
       "3-element Array{Complex{Float64},1}:\n",
       "  1.4500917693185271 + 0.6761906983644953im  \n",
       " -0.9999999999730151 - 7.346410206643587e-6im\n",
       " -0.6022211489490756 + 0.6688270985527242im  "
      ]
     },
     "execution_count": 4,
     "metadata": {},
     "output_type": "execute_result"
    }
   ],
   "source": [
    "#definicion de matriz de corrientes\n",
    "iun=[ia\n",
    "     ib\n",
    "     ic]"
   ]
  },
  {
   "cell_type": "code",
   "execution_count": 9,
   "metadata": {},
   "outputs": [
    {
     "data": {
      "text/plain": [
       "3-element Array{Complex{Float64},1}:\n",
       " -0.05070979320118804 + 0.4483368168356709im   \n",
       "   0.9434823184893412 - 0.0009052910554318006im\n",
       "    0.557319244030374 + 0.2287591725842561im   "
      ]
     },
     "execution_count": 9,
     "metadata": {},
     "output_type": "execute_result"
    }
   ],
   "source": [
    "#multiplicación de matrices\n",
    "i012p=Am*iun"
   ]
  },
  {
   "cell_type": "code",
   "execution_count": 11,
   "metadata": {},
   "outputs": [
    {
     "data": {
      "text/plain": [
       "0.45119550580302675"
      ]
     },
     "execution_count": 11,
     "metadata": {},
     "output_type": "execute_result"
    }
   ],
   "source": [
    "#Magnitud de la corriente A\n",
    "IA=i012p[1]\n",
    "MIA=abs(IA)"
   ]
  },
  {
   "cell_type": "code",
   "execution_count": 13,
   "metadata": {},
   "outputs": [
    {
     "data": {
      "text/plain": [
       "96.45287255982917"
      ]
     },
     "execution_count": 13,
     "metadata": {},
     "output_type": "execute_result"
    }
   ],
   "source": [
    "#Angulo de la corriente A\n",
    "angA=angle(IA)*180/3.1416"
   ]
  },
  {
   "cell_type": "code",
   "execution_count": 14,
   "metadata": {},
   "outputs": [
    {
     "data": {
      "text/plain": [
       "0.9434827528121104"
      ]
     },
     "execution_count": 14,
     "metadata": {},
     "output_type": "execute_result"
    }
   ],
   "source": [
    "#Magnitud de la corriente B\n",
    "IB=i012p[2]\n",
    "MIB=abs(IB)"
   ]
  },
  {
   "cell_type": "code",
   "execution_count": 16,
   "metadata": {},
   "outputs": [
    {
     "data": {
      "text/plain": [
       "-0.05497635565558815"
      ]
     },
     "execution_count": 16,
     "metadata": {},
     "output_type": "execute_result"
    }
   ],
   "source": [
    "#Angulo de la corriente B\n",
    "angB=angle(IB)*180/3.1416"
   ]
  },
  {
   "cell_type": "code",
   "execution_count": 17,
   "metadata": {},
   "outputs": [
    {
     "data": {
      "text/plain": [
       "0.6024412824566565"
      ]
     },
     "execution_count": 17,
     "metadata": {},
     "output_type": "execute_result"
    }
   ],
   "source": [
    "#Magnitud de la corriente C\n",
    "IC=i012p[3]\n",
    "MIC=abs(IC)"
   ]
  },
  {
   "cell_type": "code",
   "execution_count": 19,
   "metadata": {},
   "outputs": [
    {
     "data": {
      "text/plain": [
       "22.31630506456551"
      ]
     },
     "execution_count": 19,
     "metadata": {},
     "output_type": "execute_result"
    }
   ],
   "source": [
    "#Angulo de la corriente C\n",
    "angC=angle(IC)*180/3.1416"
   ]
  },
  {
   "cell_type": "markdown",
   "metadata": {},
   "source": [
    "## Resultados\n",
    "\n",
    "##### Resultado del libro\n",
    "\n",
    "I012P= [0.4512<96.4529°\n",
    "       0.9435<-0.0550°\n",
    "       0.6024<22.3157°]"
   ]
  }
 ],
 "metadata": {
  "kernelspec": {
   "display_name": "Julia 1.1.0",
   "language": "julia",
   "name": "julia-1.1"
  },
  "language_info": {
   "file_extension": ".jl",
   "mimetype": "application/julia",
   "name": "julia",
   "version": "1.1.0"
  }
 },
 "nbformat": 4,
 "nbformat_minor": 2
}
