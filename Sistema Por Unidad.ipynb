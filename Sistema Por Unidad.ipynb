{
 "cells": [
  {
   "cell_type": "markdown",
   "metadata": {},
   "source": [
    "# Tarea 2: Ejemplo de Sistema Por Unidad\n",
    "## Brandon Urian Cancino Meyer"
   ]
  },
  {
   "cell_type": "code",
   "execution_count": 23,
   "metadata": {},
   "outputs": [],
   "source": [
    "#Datos actuales\n",
    "#Potencia en MegaVA\n",
    "sg=90\n",
    "st1=50\n",
    "st2=40\n",
    "st3=40\n",
    "st4=40\n",
    "sm=66.5\n",
    "sl=57\n",
    "#Factor de potencia de la carga\n",
    "fpl=0.6\n",
    "#Voltaje en kV\n",
    "    vt1=22\n",
    "    vt2=220\n",
    "    vt3=110\n",
    "    vt4=11\n",
    "    ##Referenciados al primario\n",
    "vg=22\n",
    "vm=10.45\n",
    "#Por unidad vieja\n",
    "pug=0.18\n",
    "put1=0.1\n",
    "put2=0.06\n",
    "put3=0.064\n",
    "put4=0.08\n",
    "pum=0.185\n",
    "#Impedancia de linea base\n",
    "zl1=48.4\n",
    "zl2=65.43;"
   ]
  },
  {
   "cell_type": "code",
   "execution_count": 2,
   "metadata": {},
   "outputs": [],
   "source": [
    "#Potencia base en MegaVA\n",
    "s=100\n",
    "#Voltaje base en kV\n",
    "v1=22\n",
    "v2=220\n",
    "v3=110\n",
    "v4=11;"
   ]
  },
  {
   "cell_type": "code",
   "execution_count": 3,
   "metadata": {},
   "outputs": [],
   "source": [
    "#Impedancia base\n",
    "z2=(v2^2)/100 #Impedancia base de linea 1\n",
    "z3=(v3^2)/100 #Impedancia base de linea 2\n",
    "z4=(11^2)/100; #Impedancia base de carga"
   ]
  },
  {
   "cell_type": "code",
   "execution_count": 4,
   "metadata": {},
   "outputs": [
    {
     "data": {
      "text/plain": [
       "0.09999999999999999"
      ]
     },
     "execution_count": 4,
     "metadata": {},
     "output_type": "execute_result"
    }
   ],
   "source": [
    "#Impedancia por unidad de la linea 1\n",
    "xl1=zl1/z2"
   ]
  },
  {
   "cell_type": "code",
   "execution_count": 5,
   "metadata": {},
   "outputs": [
    {
     "data": {
      "text/plain": [
       "0.5407438016528926"
      ]
     },
     "execution_count": 5,
     "metadata": {},
     "output_type": "execute_result"
    }
   ],
   "source": [
    "#Impedancia por unidad de la linea 2\n",
    "xl2=zl2/z3"
   ]
  },
  {
   "cell_type": "code",
   "execution_count": 10,
   "metadata": {},
   "outputs": [
    {
     "data": {
      "text/plain": [
       "53.129978113155786"
      ]
     },
     "execution_count": 10,
     "metadata": {},
     "output_type": "execute_result"
    }
   ],
   "source": [
    "#Ángulo para la potencia para la carga L\n",
    "angr=acos(fpl)\n",
    "angd=angr*180/3.1416"
   ]
  },
  {
   "cell_type": "code",
   "execution_count": 11,
   "metadata": {},
   "outputs": [
    {
     "data": {
      "text/plain": [
       "1.1494999999999997 - 1.5326666666666664im"
      ]
     },
     "execution_count": 11,
     "metadata": {},
     "output_type": "execute_result"
    }
   ],
   "source": [
    "#Cálculo de la impedancia de la carga L\n",
    "S3L=57*cos(angr)+57im*sin(angr)\n",
    "Zact=(vm^2)/S3L"
   ]
  },
  {
   "cell_type": "code",
   "execution_count": 14,
   "metadata": {},
   "outputs": [
    {
     "data": {
      "text/plain": [
       "0.9499999999999998 + 1.2666666666666664im"
      ]
     },
     "execution_count": 14,
     "metadata": {},
     "output_type": "execute_result"
    }
   ],
   "source": [
    "#Impedancia por unidad de la carga L\n",
    "Zpul=conj(Zact/z4)"
   ]
  },
  {
   "cell_type": "code",
   "execution_count": 16,
   "metadata": {},
   "outputs": [
    {
     "data": {
      "text/plain": [
       "0.2"
      ]
     },
     "execution_count": 16,
     "metadata": {},
     "output_type": "execute_result"
    }
   ],
   "source": [
    "#Impedancia por unidad del generador\n",
    "Xsg=pug*(s/sg)*(vg/vt1)"
   ]
  },
  {
   "cell_type": "code",
   "execution_count": 30,
   "metadata": {},
   "outputs": [
    {
     "data": {
      "text/plain": [
       "0.2"
      ]
     },
     "execution_count": 30,
     "metadata": {},
     "output_type": "execute_result"
    }
   ],
   "source": [
    "#Impedancia por unidad del transformador 1\n",
    "xt1=put1*(s/st1)*(vt1/v1)^2"
   ]
  },
  {
   "cell_type": "code",
   "execution_count": 29,
   "metadata": {},
   "outputs": [
    {
     "data": {
      "text/plain": [
       "0.15"
      ]
     },
     "execution_count": 29,
     "metadata": {},
     "output_type": "execute_result"
    }
   ],
   "source": [
    "#Impedancia por unidad del transformador 2\n",
    "xt2=put2*(s/st2)*(vt2/v2)^2"
   ]
  },
  {
   "cell_type": "code",
   "execution_count": 28,
   "metadata": {},
   "outputs": [
    {
     "data": {
      "text/plain": [
       "0.16"
      ]
     },
     "execution_count": 28,
     "metadata": {},
     "output_type": "execute_result"
    }
   ],
   "source": [
    "#Impedancia por unidad del transformador 3\n",
    "xt3=put3*(s/st3)*(vt3/v3)^2"
   ]
  },
  {
   "cell_type": "code",
   "execution_count": 27,
   "metadata": {},
   "outputs": [
    {
     "data": {
      "text/plain": [
       "0.2"
      ]
     },
     "execution_count": 27,
     "metadata": {},
     "output_type": "execute_result"
    }
   ],
   "source": [
    "#Impedancia por unidad del transformador 4\n",
    "xt4=put4*(s/st4)*(vt4/v4)^2"
   ]
  },
  {
   "cell_type": "code",
   "execution_count": 26,
   "metadata": {},
   "outputs": [
    {
     "data": {
      "text/plain": [
       "0.25107142857142856"
      ]
     },
     "execution_count": 26,
     "metadata": {},
     "output_type": "execute_result"
    }
   ],
   "source": [
    "#Impedancia por unidad del motor\n",
    "xsm=pum*(s/sm)*(vm/v4)^2"
   ]
  }
 ],
 "metadata": {
  "kernelspec": {
   "display_name": "Julia 1.1.0",
   "language": "julia",
   "name": "julia-1.1"
  },
  "language_info": {
   "file_extension": ".jl",
   "mimetype": "application/julia",
   "name": "julia",
   "version": "1.1.0"
  }
 },
 "nbformat": 4,
 "nbformat_minor": 2
}
